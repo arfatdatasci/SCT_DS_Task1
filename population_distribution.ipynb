{
 "cells": [
  {
   "cell_type": "markdown",
   "id": "28d7f406",
   "metadata": {},
   "source": [
    "# 📊 India's Population Distribution by Age (2022)\n",
    "This notebook visualizes India's population distribution using a bar chart based on age groups."
   ]
  },
  {
   "cell_type": "code",
   "execution_count": null,
   "id": "06a81f44",
   "metadata": {},
   "outputs": [],
   "source": [
    "import pandas as pd\n",
    "import matplotlib.pyplot as plt"
   ]
  },
  {
   "cell_type": "code",
   "execution_count": null,
   "id": "4c135d9a",
   "metadata": {},
   "outputs": [],
   "source": [
    "# 🔹 Load the CSV file\n",
    "data = pd.read_csv('population_data.csv')\n",
    "data"
   ]
  },
  {
   "cell_type": "code",
   "execution_count": null,
   "id": "d33215d6",
   "metadata": {},
   "outputs": [],
   "source": [
    "# 🔹 Extract data\n",
    "age_groups = data['Age_Group']\n",
    "population = data['Population_Millions']"
   ]
  },
  {
   "cell_type": "code",
   "execution_count": null,
   "id": "e10a7e05",
   "metadata": {},
   "outputs": [],
   "source": [
    "# 🔹 Plot the bar chart\n",
    "plt.figure(figsize=(8, 6))\n",
    "colors = ['gold', 'royalblue', 'hotpink']\n",
    "plt.bar(age_groups, population, color=colors)\n",
    "\n",
    "plt.title(\"India's Population Distribution by Age (2022)\", fontsize=14, weight='bold')\n",
    "plt.xlabel(\"Age Groups\", fontsize=12)\n",
    "plt.ylabel(\"Population (Millions)\", fontsize=12)\n",
    "\n",
    "for index, value in enumerate(population):\n",
    "    plt.text(index, value + 10, str(value), ha='center', fontsize=10)\n",
    "\n",
    "plt.grid(axis='y', linestyle='--', alpha=0.7)\n",
    "plt.tight_layout()\n",
    "plt.savefig('population_distribution_chart.png')\n",
    "plt.show()"
   ]
  }
 ],
 "metadata": {},
 "nbformat": 4,
 "nbformat_minor": 5
}
